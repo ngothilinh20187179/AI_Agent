{
 "cells": [
  {
   "cell_type": "code",
   "execution_count": 1,
   "metadata": {},
   "outputs": [
    {
     "name": "stdout",
     "output_type": "stream",
     "text": [
      "A virtual network is a software-defined network that enables the creation of isolated and secure network segments using virtualization technologies, allowing multiple virtual machines to communicate as if they were on the same physical network.\n"
     ]
    }
   ],
   "source": [
    "from openai import AzureOpenAI\n",
    "import os\n",
    "\n",
    "client = AzureOpenAI(\n",
    "    azure_endpoint=os.environ[\"AZURE_OPENAI_ENDPOINT\"],\n",
    "    api_version=os.environ[\"AZURE_OPENAI_API_VERSION\"],\n",
    "    api_key=os.environ[\"AZURE_OPENAI_API_KEY\"]\n",
    ")\n",
    "response = client.chat.completions.create(\n",
    "    model=os.environ[\"AZURE_OPENAI_DEPLOYMENT_NAME\"],\n",
    "    messages=[\n",
    "        {\"role\": \"system\", \"content\": \"Answer in one short sentence.\"},\n",
    "        {\"role\": \"user\", \"content\": \"What is a virtual network?\"}\n",
    "    ]\n",
    ")\n",
    "print(response.choices[0].message.content)"
   ]
  },
  {
   "cell_type": "code",
   "execution_count": 2,
   "metadata": {},
   "outputs": [
    {
     "name": "stdout",
     "output_type": "stream",
     "text": [
      "The Eiffel Tower, or La Tour Eiffel, is an iconic symbol of Paris and is celebrated for several reasons:\n",
      "\n",
      "1. **Architectural Marvel**: Designed by Gustave Eiffel and completed in 1889 for the Exposition Universelle (World's Fair), it was a groundbreaking feat of engineering at the time. Standing at 1,083 feet (330 meters), it was the tallest man-made structure in the world until 1930.\n",
      "\n",
      "2. **Panoramic Views**: The Eiffel Tower offers breathtaking panoramic views of Paris from its various observation decks. Visitors can see famous landmarks like the Seine River, Notre-Dame Cathedral, Montmartre, and beyond.\n",
      "\n",
      "3. **Cultural Significance**: The Eiffel Tower embodies the spirit of innovation and artistic freedom that characterizes Paris. It's a symbol of romance, culture, and identity in French history and is often involved in celebrations and events.\n",
      "\n",
      "4. **Nighttime Illumination**: The Eiffel Tower is mesmerizing at night when it sparkles with thousands of lights every hour on the hour after sunset. This spectacle draws visitors and locals alike, making it a magical experience.\n",
      "\n",
      "5. **Visitor Experience**: The tower includes restaurants, shops, and exhibitions about its history and construction, providing a well-rounded visitor experience. Climbing the stairs or taking an elevator to the top can be a memorable adventure.\n",
      "\n",
      "6. **Photogenic Spot**: The Eiffel Tower is one of the most photographed structures in the world. Its presence in pictures of Paris is a testament to its beauty, especially from spots like the Champ de Mars or the Trocadéro Gardens.\n",
      "\n",
      "7. **Historical Context**: Each stage of the Eiffel Tower's existence tells a story, from initial public criticism to becoming a beloved international icon. It has hosted numerous events, including World Fairs, and has served various purposes over the years.\n",
      "\n",
      "Overall, the Eiffel Tower's combination of aesthetic beauty, engineering ingenuity, cultural importance, and panoramic vistas makes it a must-see attraction in Paris.\n"
     ]
    }
   ],
   "source": [
    "\n",
    "import os\n",
    "from openai import AzureOpenAI\n",
    "\n",
    "deployment = os.environ[\"AZURE_OPENAI_DEPLOYMENT_NAME\"]\n",
    "\n",
    "client = AzureOpenAI(\n",
    "    api_version=os.environ[\"AZURE_OPENAI_API_VERSION\"],\n",
    "    azure_endpoint=os.environ[\"AZURE_SERVICE_ENDPOINT\"],\n",
    "    api_key=os.environ[\"AZURE_OPENAI_API_KEY\"],\n",
    ")\n",
    "\n",
    "response = client.chat.completions.create(\n",
    "    messages=[\n",
    "        {\n",
    "            \"role\": \"system\",\n",
    "            \"content\": \"You are a helpful assistant.\",\n",
    "        },\n",
    "        {\n",
    "            \"role\": \"user\",\n",
    "            \"content\": \"I am going to Paris, what should I see?\",\n",
    "        },\n",
    "        {\n",
    "            \"role\": \"assistant\",\n",
    "            \"content\": \"Paris, the capital of France, is known for its stunning architecture, art museums, historical landmarks, and romantic atmosphere. Here are some of the top attractions to see in Paris:\\n \\n 1. The Eiffel Tower: The iconic Eiffel Tower is one of the most recognizable landmarks in the world and offers breathtaking views of the city.\\n 2. The Louvre Museum: The Louvre is one of the world's largest and most famous museums, housing an impressive collection of art and artifacts, including the Mona Lisa.\\n 3. Notre-Dame Cathedral: This beautiful cathedral is one of the most famous landmarks in Paris and is known for its Gothic architecture and stunning stained glass windows.\\n \\n These are just a few of the many attractions that Paris has to offer. With so much to see and do, it's no wonder that Paris is one of the most popular tourist destinations in the world.\",\n",
    "        },\n",
    "        {\n",
    "            \"role\": \"user\",\n",
    "            \"content\": \"What is so great about #1?\",\n",
    "        }\n",
    "    ],\n",
    "    max_tokens=4096,\n",
    "    temperature=1.0,\n",
    "    top_p=1.0,\n",
    "    model=deployment\n",
    ")\n",
    "\n",
    "print(response.choices[0].message.content)"
   ]
  },
  {
   "cell_type": "code",
   "execution_count": null,
   "metadata": {},
   "outputs": [],
   "source": []
  }
 ],
 "metadata": {
  "kernelspec": {
   "display_name": "base",
   "language": "python",
   "name": "python3"
  },
  "language_info": {
   "codemirror_mode": {
    "name": "ipython",
    "version": 3
   },
   "file_extension": ".py",
   "mimetype": "text/x-python",
   "name": "python",
   "nbconvert_exporter": "python",
   "pygments_lexer": "ipython3",
   "version": "3.12.2"
  }
 },
 "nbformat": 4,
 "nbformat_minor": 2
}
