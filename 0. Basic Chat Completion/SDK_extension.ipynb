{
 "cells": [
  {
   "cell_type": "code",
   "execution_count": 1,
   "metadata": {},
   "outputs": [
    {
     "name": "stdout",
     "output_type": "stream",
     "text": [
      "The capital of France is Paris.\n"
     ]
    }
   ],
   "source": [
    "# OpenAIChatCompletion\n",
    "import os\n",
    "from openai import AsyncOpenAI\n",
    "from semantic_kernel import Kernel\n",
    "from semantic_kernel.connectors.ai.open_ai import OpenAIChatCompletion, OpenAIPromptExecutionSettings\n",
    "from semantic_kernel.kernel import ChatHistory\n",
    "\n",
    "api_key  = os.environ[\"AZURE_OPENAI_API_KEY\"] # use Azure api\n",
    "endpoint = os.environ[\"AZURE_OPENAI_ENDPOINT\"]\n",
    "deploy   = os.environ[\"AZURE_OPENAI_DEPLOYMENT_NAME\"]\n",
    "model   = os.environ[\"AZURE_OPENAI_MODEL\"]\n",
    "api_ver  = os.environ.get(\"AZURE_OPENAI_API_VERSION\", \"2025-01-01-preview\")\n",
    "\n",
    "client = AsyncOpenAI(\n",
    "    api_key=api_key,\n",
    "    base_url=f\"{endpoint}/openai/deployments/{deploy}\",\n",
    "    default_headers={\"api-key\": api_key},\n",
    "    default_query={\"api-version\": api_ver},\n",
    ")\n",
    "\n",
    "chat_service = OpenAIChatCompletion(\n",
    "    ai_model_id=deploy,\n",
    "    async_client=client,\n",
    ")\n",
    "\n",
    "kernel = Kernel()\n",
    "kernel.add_service(chat_service)\n",
    "\n",
    "history = ChatHistory()\n",
    "history.add_system_message(\"You are a helpful assistant.\")\n",
    "history.add_user_message(\"What is capital of France ?\")\n",
    "\n",
    "prompt_execution_settings = OpenAIPromptExecutionSettings(temperature=0.2, top_p=1.0, max_tokens=400)\n",
    "\n",
    "response = await chat_service.get_chat_message_content(\n",
    "    chat_history=history,\n",
    "    kernel=kernel,\n",
    "    settings=prompt_execution_settings\n",
    ")\n",
    "print(response.content)"
   ]
  },
  {
   "cell_type": "code",
   "execution_count": null,
   "metadata": {},
   "outputs": [],
   "source": []
  }
 ],
 "metadata": {
  "kernelspec": {
   "display_name": "base",
   "language": "python",
   "name": "python3"
  },
  "language_info": {
   "codemirror_mode": {
    "name": "ipython",
    "version": 3
   },
   "file_extension": ".py",
   "mimetype": "text/x-python",
   "name": "python",
   "nbconvert_exporter": "python",
   "pygments_lexer": "ipython3",
   "version": "3.12.2"
  }
 },
 "nbformat": 4,
 "nbformat_minor": 2
}
