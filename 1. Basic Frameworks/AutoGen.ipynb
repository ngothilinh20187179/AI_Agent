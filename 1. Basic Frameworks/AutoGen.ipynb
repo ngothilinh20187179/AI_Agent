{
 "cells": [
  {
   "cell_type": "code",
   "execution_count": 2,
   "metadata": {},
   "outputs": [],
   "source": [
    "import os\n",
    "from dotenv import load_dotenv\n",
    "\n",
    "from autogen_ext.models.openai import AzureOpenAIChatCompletionClient  \n",
    "from autogen_agentchat.agents import AssistantAgent\n",
    "from autogen_core.models import UserMessage\n",
    "from autogen_agentchat.messages import TextMessage\n",
    "from autogen_core import CancellationToken"
   ]
  },
  {
   "cell_type": "markdown",
   "metadata": {},
   "source": [
    "Create the client"
   ]
  },
  {
   "cell_type": "code",
   "execution_count": 3,
   "metadata": {},
   "outputs": [],
   "source": [
    "load_dotenv()\n",
    "model = os.environ[\"AZURE_OPENAI_MODEL\"]\n",
    "deployment = os.environ[\"AZURE_OPENAI_DEPLOYMENT_NAME\"]\n",
    "api_key = os.environ[\"AZURE_OPENAI_API_KEY\"]\n",
    "endpoint = os.environ[\"AZURE_OPENAI_ENDPOINT\"]\n",
    "api_version  = os.environ.get(\"AZURE_OPENAI_API_VERSION\", \"2025-01-01-preview\")\n",
    "\n",
    "client = AzureOpenAIChatCompletionClient(\n",
    "    model=model,\n",
    "    endpoint=endpoint,\n",
    "    azure_deployment=deployment,\n",
    "    api_version=api_version,\n",
    "    api_key=api_key\n",
    ")"
   ]
  },
  {
   "cell_type": "code",
   "execution_count": 5,
   "metadata": {},
   "outputs": [
    {
     "name": "stdout",
     "output_type": "stream",
     "text": [
      "The capital of France is Paris.\n"
     ]
    }
   ],
   "source": [
    "# Test client\n",
    "result = await client.create([\n",
    "    UserMessage(content=\"What is the capital of France?\", source=\"user\") \n",
    "])\n",
    "print(result.content)"
   ]
  },
  {
   "cell_type": "markdown",
   "metadata": {},
   "source": [
    "Defining the Agent"
   ]
  },
  {
   "cell_type": "code",
   "execution_count": 7,
   "metadata": {},
   "outputs": [],
   "source": [
    "agent = AssistantAgent(\n",
    "    name=\"Assistant\",\n",
    "    model_client=client,\n",
    "    system_message=\"You are a travel agent that plans great vacations\"\n",
    ")"
   ]
  },
  {
   "cell_type": "code",
   "execution_count": 10,
   "metadata": {},
   "outputs": [
    {
     "name": "stdout",
     "output_type": "stream",
     "text": [
      "The capital of France is Paris.\n"
     ]
    }
   ],
   "source": [
    "# Test agent\n",
    "res = await agent.run(task=\"What is the capital of France ?\")\n",
    "for message in res.messages:\n",
    "    if message.source.lower() == \"assistant\":\n",
    "        print(message.content)"
   ]
  },
  {
   "cell_type": "markdown",
   "metadata": {},
   "source": [
    "Run the agent"
   ]
  },
  {
   "cell_type": "code",
   "execution_count": 5,
   "metadata": {},
   "outputs": [
    {
     "data": {
      "text/html": [
       "<div style='margin-bottom:10px'><div style='font-weight:bold'>User:</div><div style='margin-left:20px'>Plan me a great sunny vacation</div></div><div style='margin-bottom:20px'><div style='font-weight:bold'>Assistant:</div><div style='margin-left:20px; white-space:pre-wrap'>Absolutely! Here’s a detailed plan for a sunny vacation that balances relaxation and adventure.\n",
       "\n",
       "### Destination: Costa Rica\n",
       "\n",
       "#### Duration: 7 Days\n",
       "\n",
       "---\n",
       "\n",
       "### **Day 1: Arrival in San José**\n",
       "\n",
       "- **Flight**: Arrive at Juan Santamaría International Airport.\n",
       "- **Accommodation**: Check into a hotel in San José such as Hotel Grano de Oro for comfort and charm.\n",
       "- **Evening Activity**: Explore the city with a guided tour that takes you through the National Theater and the vibrant Mercado Central.\n",
       "\n",
       "---\n",
       "\n",
       "### **Day 2: Arenal Volcano**\n",
       "\n",
       "- **Morning**: Drive or take a shuttle to La Fortuna (approx. 3 hours).\n",
       "- **Accommodation**: Stay at Tabacón Thermal Resort & Spa for natural hot springs and stunning views of Arenal Volcano.\n",
       "- **Afternoon Activity**: Relax in the natural hot springs or visit La Fortuna Waterfall for a refreshing swim.\n",
       "- **Evening**: Dinner at a local restaurant like Don Rufino for authentic Costa Rican cuisine.\n",
       "\n",
       "---\n",
       "\n",
       "### **Day 3: Adventure in Arenal**\n",
       "\n",
       "- **Morning**: Go zip-lining through the lush canopy or take a guided hike in Arenal Volcano National Park.\n",
       "- **Afternoon**: Enjoy a scenic lake tour on Lake Arenal, where you can kayak or paddleboard.\n",
       "- **Evening Activity**: Return to the hotel and unwind at the hot springs.\n",
       "\n",
       "---\n",
       "\n",
       "### **Day 4: Monteverde Cloud Forest**\n",
       "\n",
       "- **Morning**: Depart for Monteverde (approx. 3.5 hours by shuttle or rental car).\n",
       "- **Accommodation**: Check in at Hotel Belmar or Monteverde Cloud Forest Lodge.\n",
       "- **Afternoon Activity**: Visit the Monteverde Cloud Forest Reserve for nature hikes, birdwatching, and observing unique flora and fauna.\n",
       "- **Evening**: Night walk in the cloud forest to experience nocturnal wildlife.\n",
       "\n",
       "---\n",
       "\n",
       "### **Day 5: Beach Time in Tamarindo**\n",
       "\n",
       "- **Morning**: Depart for Tamarindo Beach (approx. 3.5 hours).\n",
       "- **Accommodation**: Stay at Tamarindo Diria Beach Resort for beachfront access.\n",
       "- **Afternoon Activity**: Spend the day relaxing on the beautiful sandy beach or try surfing with a local instructor.\n",
       "- **Evening**: Enjoy a beachfront dinner at Pangas Beach Club.\n",
       "\n",
       "---\n",
       "\n",
       "### **Day 6: Exploring Tamarindo**\n",
       "\n",
       "- **Morning Activity**: Take a snorkeling or diving tour in the nearby Catalina Islands or visit a national park like Las Baulas for turtle watching.\n",
       "- **Afternoon**: Explore local shops and markets in Tamarindo.\n",
       "- **Evening**: Celebrate your final night with a sunset cruise, complete with snacks and drinks.\n",
       "\n",
       "---\n",
       "\n",
       "### **Day 7: Departure**\n",
       "\n",
       "- **Morning**: Relax by the beach or enjoy a final dip in the pool.\n",
       "- **Afternoon**: Travel back to San José for your flight home, allowing for some leisurely time in the city if desired.\n",
       "\n",
       "---\n",
       "\n",
       "### **Extra Tips:**\n",
       "\n",
       "- **Travel Insurance**: Consider purchasing travel insurance for peace of mind.\n",
       "- **Local Currency**: The currency is the Costa Rican Colón, but US dollars are widely accepted.\n",
       "- **Essentials to Pack**: Sunscreen, insect repellent, light clothing, swimwear, hiking shoes, and a rain jacket (for unpredictable rain in the cloud forest).\n",
       "\n",
       "This itinerary offers a perfect blend of adventure, relaxation, and stunning natural beauty in Costa Rica. Let me know if you’d like to adjust any elements or explore different destinations!</div></div>"
      ],
      "text/plain": [
       "<IPython.core.display.HTML object>"
      ]
     },
     "metadata": {},
     "output_type": "display_data"
    }
   ],
   "source": [
    "from IPython.display import display, HTML\n",
    "\n",
    "\n",
    "async def assistant_run():\n",
    "    user_query = \"Plan me a great sunny vacation\"\n",
    "\n",
    "    html_output = \"<div style='margin-bottom:10px'>\"\n",
    "    html_output += \"<div style='font-weight:bold'>User:</div>\"\n",
    "    html_output += f\"<div style='margin-left:20px'>{user_query}</div>\"\n",
    "    html_output += \"</div>\"\n",
    "\n",
    "    response = await agent.on_messages(\n",
    "        [TextMessage(content=user_query, source=\"user\")],\n",
    "        cancellation_token=CancellationToken(),\n",
    "    )\n",
    "\n",
    "    # Add agent response to HTML\n",
    "    html_output += \"<div style='margin-bottom:20px'>\"\n",
    "    html_output += \"<div style='font-weight:bold'>Assistant:</div>\"\n",
    "    html_output += f\"<div style='margin-left:20px; white-space:pre-wrap'>{response.chat_message.content}</div>\"\n",
    "    html_output += \"</div>\"\n",
    "\n",
    "    display(HTML(html_output))\n",
    "\n",
    "await assistant_run()"
   ]
  },
  {
   "cell_type": "code",
   "execution_count": null,
   "metadata": {},
   "outputs": [],
   "source": []
  }
 ],
 "metadata": {
  "kernelspec": {
   "display_name": "base",
   "language": "python",
   "name": "python3"
  },
  "language_info": {
   "codemirror_mode": {
    "name": "ipython",
    "version": 3
   },
   "file_extension": ".py",
   "mimetype": "text/x-python",
   "name": "python",
   "nbconvert_exporter": "python",
   "pygments_lexer": "ipython3",
   "version": "3.12.2"
  }
 },
 "nbformat": 4,
 "nbformat_minor": 2
}
