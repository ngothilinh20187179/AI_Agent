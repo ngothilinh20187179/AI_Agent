{
 "cells": [
  {
   "cell_type": "code",
   "execution_count": 7,
   "metadata": {},
   "outputs": [],
   "source": [
    "import os\n",
    "from openai import AsyncOpenAI\n",
    "from semantic_kernel.connectors.ai.open_ai import OpenAIChatCompletion\n",
    "from semantic_kernel.kernel import Kernel\n",
    "from semantic_kernel.agents import ChatCompletionAgent, AgentGroupChat\n",
    "\n",
    "from semantic_kernel.functions import KernelFunctionFromPrompt\n",
    "from semantic_kernel.agents.strategies import (\n",
    "    KernelFunctionSelectionStrategy,\n",
    "    KernelFunctionTerminationStrategy,\n",
    ")\n",
    "from semantic_kernel.contents import AuthorRole, ChatMessageContent"
   ]
  },
  {
   "cell_type": "markdown",
   "metadata": {},
   "source": [
    "Create client, add service client to kernel"
   ]
  },
  {
   "cell_type": "code",
   "execution_count": 8,
   "metadata": {},
   "outputs": [],
   "source": [
    "client = AsyncOpenAI(\n",
    "    api_key=os.environ[\"AZURE_OPENAI_API_KEY\"],\n",
    "    base_url=f\"{os.environ[\"AZURE_OPENAI_ENDPOINT\"]}/openai/deployments/{os.environ[\"AZURE_OPENAI_DEPLOYMENT_NAME\"]}\",\n",
    "    default_headers={\"api-key\": os.environ[\"AZURE_OPENAI_API_KEY\"]},\n",
    "    default_query={\"api-version\": os.environ.get(\"AZURE_OPENAI_API_VERSION\", \"2025-01-01-preview\")},\n",
    ")\n",
    "client_service = OpenAIChatCompletion(\n",
    "    ai_model_id=os.environ[\"AZURE_OPENAI_DEPLOYMENT_NAME\"],\n",
    "    async_client=client\n",
    ")\n",
    "kernel = Kernel()\n",
    "kernel.add_service(client_service)"
   ]
  },
  {
   "cell_type": "markdown",
   "metadata": {},
   "source": [
    "Create agents"
   ]
  },
  {
   "cell_type": "code",
   "execution_count": 9,
   "metadata": {},
   "outputs": [],
   "source": [
    "REVIEWER_NAME = \"Concierge\"\n",
    "REVIEWER_INSTRUCTIONS = \"\"\"\n",
    "    You are an are hotel concierge who has opinions about providing the most local and authentic experiences for travelers.\n",
    "    The goal is to determine if the front desk travel agent has recommended the best non-touristy experience for a traveler.\n",
    "    If so, state that it is approved.\n",
    "    If not, provide insight on how to refine the recommendation without using a specific example. \n",
    "\"\"\"\n",
    "FRONTDESK_NAME = \"FrontDesk\"\n",
    "FRONTDESK_INSTRUCTIONS = \"\"\"\n",
    "    You are a Front Desk Travel Agent with ten years of experience and are known for brevity as you deal with many customers.\n",
    "    The goal is to provide the best activities and locations for a traveler to visit.\n",
    "    Only provide a single recommendation per response.\n",
    "    You're laser focused on the goal at hand.\n",
    "    Don't waste time with chit chat.\n",
    "    Consider suggestions when refining an idea.\n",
    "\"\"\"\n",
    "agent_reviewer = ChatCompletionAgent(\n",
    "    kernel=kernel,\n",
    "    name=REVIEWER_NAME,\n",
    "    instructions=REVIEWER_INSTRUCTIONS,\n",
    ")\n",
    "agent_writer = ChatCompletionAgent(\n",
    "    kernel=kernel,\n",
    "    name=FRONTDESK_NAME,\n",
    "    instructions=FRONTDESK_INSTRUCTIONS,\n",
    ")"
   ]
  },
  {
   "cell_type": "markdown",
   "metadata": {},
   "source": [
    "Write tool use prompt"
   ]
  },
  {
   "cell_type": "code",
   "execution_count": 10,
   "metadata": {},
   "outputs": [],
   "source": [
    "# Determine when the conversation should end\n",
    "termination_function = KernelFunctionFromPrompt(\n",
    "    function_name=\"termination\",\n",
    "    prompt=\"\"\"\n",
    "    Determine if the recommendation process is complete.\n",
    "    The process is complete when the Concierge provides approval for any recommendation made by the Front Desk.\n",
    "    Look for phrases like \"approved\", \"this recommendation is approved\", or any clear indication that the Concierge is satisfied with the suggestion.\n",
    "    If the Concierge has given approval in their most recent response, respond with: yes\n",
    "    Otherwise, respond with: no\n",
    "    History:\n",
    "    {{$history}}\n",
    "    \"\"\",\n",
    ")\n",
    "# Determine which agent should speak next in the rotation of the conversation.\n",
    "selection_function = KernelFunctionFromPrompt(\n",
    "    function_name=\"selection\",\n",
    "    prompt=f\"\"\"\n",
    "    Determine which participant takes the next turn in a conversation based on the the most recent participant.\n",
    "    State only the name of the participant to take the next turn.\n",
    "    No participant should take more than one turn in a row.\n",
    "    \n",
    "    Choose only from these participants:\n",
    "    - {REVIEWER_NAME}\n",
    "    - {FRONTDESK_NAME}\n",
    "    \n",
    "    Always follow these rules when selecting the next participant, each conversation should be at least 4 turns:\n",
    "    - After user input, it is {FRONTDESK_NAME}'s turn.\n",
    "    - After {FRONTDESK_NAME} replies, it is {REVIEWER_NAME}'s turn.\n",
    "    - After {REVIEWER_NAME} provides feedback, it is {FRONTDESK_NAME}'s turn.\n",
    "    History:\n",
    "    {{{{$history}}}}\n",
    "    \"\"\",\n",
    ")"
   ]
  },
  {
   "cell_type": "markdown",
   "metadata": {},
   "source": [
    "Create group chat"
   ]
  },
  {
   "cell_type": "code",
   "execution_count": 11,
   "metadata": {},
   "outputs": [
    {
     "name": "stdout",
     "output_type": "stream",
     "text": [
      "# User: 'I would like to go to Paris.'\n",
      "# Agent - FrontDesk: 'Visit the Eiffel Tower for stunning views of the city.'\n",
      "# Agent - Concierge: 'While the Eiffel Tower is an iconic landmark, it's also one of the most tourist-heavy spots in Paris. To refine the recommendation, consider suggesting experiences that immerse the traveler in the local culture, such as visiting lesser-known neighborhoods, local markets, or engaging in community events. This will provide a deeper and more authentic experience of Paris.'\n",
      "# Agent - FrontDesk: 'Explore the Montmartre district for a charming village atmosphere and stunning art scene.'\n",
      "# Agent - Concierge: 'While Montmartre has its charm, it can still attract a good number of tourists. To enhance the recommendation, consider suggesting a visit to a lesser-known neighborhood or an artist's studio, where travelers might have the chance to interact with locals or partake in a creative workshop. This will ensure a more unique and authentic experience in Paris.'\n",
      "# Agent - FrontDesk: 'Visit the Canal Saint-Martin for a laid-back vibe, local boutiques, and picturesque scenery.'\n",
      "# Agent - Concierge: 'Approved! The recommendation to visit the Canal Saint-Martin is an excellent choice for an authentic experience in Paris, away from the typical tourist spots. Enjoy the local atmosphere and the unique charm of the area!'\n",
      "# IS COMPLETE: True\n"
     ]
    }
   ],
   "source": [
    "chat = AgentGroupChat(\n",
    "    agents=[agent_reviewer, agent_writer],\n",
    "    #Stop if the reviewer says 'approved' (as prompted)\n",
    "    termination_strategy=KernelFunctionTerminationStrategy(\n",
    "        maximum_iterations=10,\n",
    "        agents=[agent_reviewer],\n",
    "        history_variable_name=\"history\", # Assign data thread to $history variable in prompt\n",
    "        kernel=kernel,\n",
    "        function=termination_function,\n",
    "        result_parser=lambda result: str(result.value[0]).lower() == \"yes\",\n",
    "    ),\n",
    "    # Select the agent to speak next \n",
    "    selection_strategy=KernelFunctionSelectionStrategy(\n",
    "        function=selection_function,\n",
    "        kernel=kernel,\n",
    "        result_parser=lambda result: str(\n",
    "            result.value[0]) if result.value is not None else FRONTDESK_NAME,\n",
    "        agent_variable_name=\"agents\",\n",
    "        history_variable_name=\"history\",\n",
    "    ),\n",
    ")\n",
    "user_input = \"I would like to go to Paris.\"\n",
    "chat_mess = ChatMessageContent(role=AuthorRole.USER, content=user_input)\n",
    "\n",
    "await chat.add_chat_message(chat_mess) # Add to chat history\n",
    "print(f\"# User: '{user_input}'\")\n",
    "\n",
    "async for content in chat.invoke(): # Call chat.invoke() to trigger the conversation flow between agents in AgentGroupChat\n",
    "    print(f\"# Agent - {content.name or '*'}: '{content.content}'\")\n",
    "print(f\"# IS COMPLETE: {chat.is_complete}\")"
   ]
  }
 ],
 "metadata": {
  "kernelspec": {
   "display_name": "base",
   "language": "python",
   "name": "python3"
  },
  "language_info": {
   "codemirror_mode": {
    "name": "ipython",
    "version": 3
   },
   "file_extension": ".py",
   "mimetype": "text/x-python",
   "name": "python",
   "nbconvert_exporter": "python",
   "pygments_lexer": "ipython3",
   "version": "3.12.2"
  }
 },
 "nbformat": 4,
 "nbformat_minor": 2
}
