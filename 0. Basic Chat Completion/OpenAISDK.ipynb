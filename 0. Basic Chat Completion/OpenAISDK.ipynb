{
 "cells": [
  {
   "cell_type": "markdown",
   "metadata": {},
   "source": [
    "OpenAI"
   ]
  },
  {
   "cell_type": "code",
   "execution_count": null,
   "metadata": {},
   "outputs": [],
   "source": [
    "from openai import OpenAI\n",
    "import os\n",
    "\n",
    "api_key = os.environ[\"OPENAI_API_KEY\"] # use openai api\n",
    "client = OpenAI(api_key=api_key)\n",
    "response = client.chat.completions.create(\n",
    "    model=\"gpt-4\",\n",
    "    messages=[\n",
    "        {\n",
    "            \"role\": \"user\",\n",
    "            \"content\": \"Hello!\"\n",
    "        }\n",
    "    ]\n",
    ")\n",
    "print(response.choices[0].message.content)"
   ]
  },
  {
   "cell_type": "code",
   "execution_count": 2,
   "metadata": {},
   "outputs": [
    {
     "name": "stdout",
     "output_type": "stream",
     "text": [
      "ChatCompletionMessage(content='The capital of France is Paris.', refusal=None, role='assistant', annotations=[], audio=None, function_call=None, tool_calls=None)\n"
     ]
    }
   ],
   "source": [
    "from openai import OpenAI\n",
    "import os\n",
    "\n",
    "endpoint = \"https://ngothilinhau12915-ai-fo-resource.cognitiveservices.azure.com/openai/v1/\"\n",
    "api_key = os.environ[\"AZURE_OPENAI_API_KEY\"] # use Azure api\n",
    "deploy = os.environ[\"AZURE_OPENAI_DEPLOYMENT_NAME\"]\n",
    "\n",
    "client = OpenAI(\n",
    "    base_url=f\"{endpoint}\",\n",
    "    api_key=api_key\n",
    ")\n",
    "\n",
    "completion = client.chat.completions.create(\n",
    "    model=deploy,\n",
    "    messages=[\n",
    "        {\n",
    "            \"role\": \"user\",\n",
    "            \"content\": \"What is the capital of France?\",\n",
    "        }\n",
    "    ],\n",
    ")\n",
    "\n",
    "print(completion.choices[0].message)"
   ]
  },
  {
   "cell_type": "markdown",
   "metadata": {},
   "source": [
    "AsyncOpenAI"
   ]
  },
  {
   "cell_type": "code",
   "execution_count": null,
   "metadata": {},
   "outputs": [],
   "source": [
    "from openai import AsyncOpenAI\n",
    "import os\n",
    "\n",
    "api_key = os.environ[\"OPENAI_API_KEY\"] # use openai api\n",
    "client = AsyncOpenAI(api_key=api_key)\n",
    "response = await client.chat.completions.create(\n",
    "    model=\"gpt-4\",\n",
    "    messages=[\n",
    "        {\n",
    "            \"role\": \"user\",\n",
    "            \"content\": \"Hello!\"\n",
    "        }\n",
    "    ]\n",
    ")\n",
    "print(response.choices[0].message.content)"
   ]
  },
  {
   "cell_type": "code",
   "execution_count": 4,
   "metadata": {},
   "outputs": [
    {
     "name": "stdout",
     "output_type": "stream",
     "text": [
      "Hello! How can I assist you today?\n"
     ]
    }
   ],
   "source": [
    "from openai import AsyncOpenAI\n",
    "import os\n",
    "\n",
    "api_key  = os.environ[\"AZURE_OPENAI_API_KEY\"] # use Azure api\n",
    "endpoint = os.environ[\"AZURE_OPENAI_ENDPOINT\"]\n",
    "deploy   = os.environ[\"AZURE_OPENAI_DEPLOYMENT_NAME\"]\n",
    "model   = os.environ[\"AZURE_OPENAI_MODEL\"]\n",
    "api_ver  = os.environ.get(\"AZURE_OPENAI_API_VERSION\", \"2025-01-01-preview\")\n",
    "\n",
    "client = AsyncOpenAI(\n",
    "    api_key=api_key,\n",
    "    base_url=f\"{endpoint}/openai/deployments/{deploy}\",\n",
    "    default_headers={\"api-key\": api_key},\n",
    "    default_query={\"api-version\": api_ver},\n",
    ")\n",
    "response = await client.chat.completions.create(\n",
    "    model=model,\n",
    "    messages=[\n",
    "        {\n",
    "            \"role\": \"user\",\n",
    "            \"content\": \"Hello!\"\n",
    "        }\n",
    "    ]\n",
    ")\n",
    "print(response.choices[0].message.content)\n"
   ]
  },
  {
   "cell_type": "code",
   "execution_count": null,
   "metadata": {},
   "outputs": [],
   "source": []
  }
 ],
 "metadata": {
  "kernelspec": {
   "display_name": "base",
   "language": "python",
   "name": "python3"
  },
  "language_info": {
   "codemirror_mode": {
    "name": "ipython",
    "version": 3
   },
   "file_extension": ".py",
   "mimetype": "text/x-python",
   "name": "python",
   "nbconvert_exporter": "python",
   "pygments_lexer": "ipython3",
   "version": "3.12.2"
  }
 },
 "nbformat": 4,
 "nbformat_minor": 2
}
