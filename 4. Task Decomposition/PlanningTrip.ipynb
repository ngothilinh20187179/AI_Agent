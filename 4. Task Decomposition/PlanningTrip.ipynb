{
 "cells": [
  {
   "cell_type": "markdown",
   "metadata": {},
   "source": [
    "Create a agent to plan a trip. Agent help user book flight, hotel, car,...\n",
    "\n",
    "This agent receives a request from the user and returns a JSON plan includes the main task and subtasks"
   ]
  },
  {
   "cell_type": "code",
   "execution_count": 1,
   "metadata": {},
   "outputs": [],
   "source": [
    "import os \n",
    "import json\n",
    "from pprint import pprint\n",
    "from autogen_core.models import UserMessage, SystemMessage\n",
    "from autogen_ext.models.openai import AzureOpenAIChatCompletionClient\n"
   ]
  },
  {
   "cell_type": "code",
   "execution_count": 2,
   "metadata": {},
   "outputs": [],
   "source": [
    "client = AzureOpenAIChatCompletionClient(\n",
    "    model=os.environ[\"AZURE_OPENAI_MODEL\"],\n",
    "    azure_endpoint=os.environ[\"AZURE_OPENAI_ENDPOINT\"],\n",
    "    azure_deployment=os.environ[\"AZURE_OPENAI_DEPLOYMENT_NAME\"],\n",
    "    api_key=os.environ[\"AZURE_OPENAI_API_KEY\"],\n",
    "    api_version=os.environ[\"AZURE_OPENAI_API_VERSION\"]\n",
    ")"
   ]
  },
  {
   "cell_type": "code",
   "execution_count": 5,
   "metadata": {},
   "outputs": [
    {
     "name": "stdout",
     "output_type": "stream",
     "text": [
      "('{\\n'\n",
      " '    \"main_task\": \"Plan a family trip from Singapore to Melbourne.\",\\n'\n",
      " '    \"sub_tasks\": [\\n'\n",
      " '        {\\n'\n",
      " '            \"assigned_agent\": \"flight_booking\",\\n'\n",
      " '            \"task_details\": \"Book round-trip flights from Singapore to '\n",
      " 'Melbourne.\"\\n'\n",
      " '        },\\n'\n",
      " '        {\\n'\n",
      " '            \"assigned_agent\": \"hotel_booking\",\\n'\n",
      " '            \"task_details\": \"Find and book family-friendly accommodation in '\n",
      " 'Melbourne.\"\\n'\n",
      " '        },\\n'\n",
      " '        {\\n'\n",
      " '            \"assigned_agent\": \"car_rental\",\\n'\n",
      " '            \"task_details\": \"Arrange car rental for family travel within '\n",
      " 'Melbourne.\"\\n'\n",
      " '        },\\n'\n",
      " '        {\\n'\n",
      " '            \"assigned_agent\": \"activities_booking\",\\n'\n",
      " '            \"task_details\": \"Book family-friendly activities and attractions '\n",
      " 'in Melbourne.\"\\n'\n",
      " '        },\\n'\n",
      " '        {\\n'\n",
      " '            \"assigned_agent\": \"destination_info\",\\n'\n",
      " '            \"task_details\": \"Provide information about family-friendly '\n",
      " 'places to visit in Melbourne.\"\\n'\n",
      " '        }\\n'\n",
      " '    ]\\n'\n",
      " '}')\n"
     ]
    }
   ],
   "source": [
    "system_message = \"\"\"\n",
    "    You are an an planner agent.\n",
    "    Your job is to decide which agent to run based on the user's request.\n",
    "    Provide your response in JSON format with the following structure:\n",
    "    {\n",
    "        \"main_task\": \"Plan a family trip from Singapore to Melbourne.\",\n",
    "        \"sub_tasks\": [\n",
    "            {\n",
    "                \"assigned_agent\": \"flight_booking\",\n",
    "                \"task_details\": \"Book roud-trip flights from Singapore to Melbourne\"\n",
    "            }\n",
    "        ]\n",
    "    }\n",
    "    Below are the available agents specialised in different tasks:\n",
    "    - FlightBooking: For booking flights and providing flight information\n",
    "    - HotelBooking: For booking hotels and providing hotel information\n",
    "    - CarRental: For booking car and providing car rental information\n",
    "    - ActivitiesBooking: For booking activities and providing activity information\n",
    "    - DestinationInfo: For providing information about destinations\n",
    "    - DefaultAgent: For handling general requests\n",
    "\"\"\"\n",
    "user_message = \"Create a travel plan for a family of 2 kids from Singapore to Melbourne\"\n",
    "\n",
    "response = await client.create(\n",
    "    messages=[\n",
    "        SystemMessage(content=system_message, source=\"system\"),\n",
    "        UserMessage(content=user_message, source=\"user\"),\n",
    "    ],\n",
    ")\n",
    "pprint(response.content)"
   ]
  },
  {
   "cell_type": "code",
   "execution_count": 6,
   "metadata": {},
   "outputs": [
    {
     "name": "stdout",
     "output_type": "stream",
     "text": [
      "{'main_task': 'Plan a family trip from Singapore to Melbourne.',\n",
      " 'sub_tasks': [{'assigned_agent': 'flight_booking',\n",
      "                'task_details': 'Book round-trip flights from Singapore to '\n",
      "                                'Melbourne.'},\n",
      "               {'assigned_agent': 'hotel_booking',\n",
      "                'task_details': 'Find and book family-friendly accommodation '\n",
      "                                'in Melbourne.'},\n",
      "               {'assigned_agent': 'car_rental',\n",
      "                'task_details': 'Arrange car rental for family travel within '\n",
      "                                'Melbourne.'},\n",
      "               {'assigned_agent': 'activities_booking',\n",
      "                'task_details': 'Book family-friendly activities and '\n",
      "                                'attractions in Melbourne.'},\n",
      "               {'assigned_agent': 'destination_info',\n",
      "                'task_details': 'Provide information about family-friendly '\n",
      "                                'places to visit in Melbourne.'}]}\n"
     ]
    }
   ],
   "source": [
    "pprint(json.loads(response.content))"
   ]
  },
  {
   "cell_type": "markdown",
   "metadata": {},
   "source": [
    "Data Structure that Agent will create when breaking down tasks"
   ]
  },
  {
   "cell_type": "code",
   "execution_count": 7,
   "metadata": {},
   "outputs": [],
   "source": [
    "from pydantic import BaseModel\n",
    "from enum import Enum\n",
    "from typing import List\n",
    "\n",
    "class AgentEnum(str, Enum):\n",
    "    FlightBooking = \"flight_booking\"\n",
    "    HotelBooking = \"hotel_booking\"\n",
    "    CarRental = \"car_rental\"\n",
    "    ActivitiesBooking = \"activities_booking\"\n",
    "    DestinationInfo = \"destination_info\"\n",
    "    DefaultAgent = \"default_agent\"\n",
    "    GroupChatManager = \"group_chat_manager\"\n",
    "\n",
    "# TravelSubTask make sure output data always has 2 fields and the right type\n",
    "class TravelSubTask(BaseModel):\n",
    "    task_details: str\n",
    "    assigned_agent: AgentEnum\n",
    "\n",
    "class TravelPlan(BaseModel):\n",
    "    main_task: str\n",
    "    subtasks: List[TravelSubTask]\n",
    "    is_greeting: bool"
   ]
  },
  {
   "cell_type": "code",
   "execution_count": 9,
   "metadata": {},
   "outputs": [
    {
     "name": "stdout",
     "output_type": "stream",
     "text": [
      "{'is_greeting': False,\n",
      " 'main_task': 'Plan a family trip from Singapore to Melbourne',\n",
      " 'subtasks': [{'assigned_agent': 'flight_booking',\n",
      "               'task_details': 'Book a flight from Singapore to Melbourne'},\n",
      "              {'assigned_agent': 'hotel_booking',\n",
      "               'task_details': 'Find and book a family-friendly hotel in '\n",
      "                               'Melbourne'},\n",
      "              {'assigned_agent': 'car_rental',\n",
      "               'task_details': 'Arrange car rental for transportation in '\n",
      "                               'Melbourne'},\n",
      "              {'assigned_agent': 'activities_booking',\n",
      "               'task_details': 'Book family activities and attractions in '\n",
      "                               'Melbourne'},\n",
      "              {'assigned_agent': 'destination_info',\n",
      "               'task_details': 'Provide information about Melbourne as a '\n",
      "                               'destination'}]}\n"
     ]
    }
   ],
   "source": [
    "messages = [\n",
    "    SystemMessage(content=\"\"\"You are an planner agent.\n",
    "    Your job is to decide which agents to run based on the user's request.\n",
    "    Below are the available agents specialised in different tasks:\n",
    "    - FlightBooking: For booking flights and providing flight information\n",
    "    - HotelBooking: For booking hotels and providing hotel information\n",
    "    - CarRental: For booking cars and providing car rental information\n",
    "    - ActivitiesBooking: For booking activities and providing activity information\n",
    "    - DestinationInfo: For providing information about destinations\n",
    "    - DefaultAgent: For handling general requests\"\"\", source=\"system\"),\n",
    "    UserMessage(content=\"Create a travel plan for a family of 2 kids from Singapore to Melbourne\", source=\"user\"),\n",
    "]\n",
    "\n",
    "\n",
    "response = await client.create(messages=messages, extra_create_args={\"response_format\": TravelPlan})\n",
    "pprint(json.loads(response.content))"
   ]
  }
 ],
 "metadata": {
  "kernelspec": {
   "display_name": "base",
   "language": "python",
   "name": "python3"
  },
  "language_info": {
   "codemirror_mode": {
    "name": "ipython",
    "version": 3
   },
   "file_extension": ".py",
   "mimetype": "text/x-python",
   "name": "python",
   "nbconvert_exporter": "python",
   "pygments_lexer": "ipython3",
   "version": "3.12.2"
  }
 },
 "nbformat": 4,
 "nbformat_minor": 2
}
