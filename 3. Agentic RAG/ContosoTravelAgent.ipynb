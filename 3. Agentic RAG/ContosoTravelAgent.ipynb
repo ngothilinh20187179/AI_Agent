{
 "cells": [
  {
   "cell_type": "markdown",
   "metadata": {},
   "source": [
    "RAG Using Azure AI Agent Service & Semantic Kernel"
   ]
  },
  {
   "cell_type": "code",
   "execution_count": 1,
   "metadata": {},
   "outputs": [],
   "source": [
    "from dotenv import load_dotenv\n",
    "import os\n",
    "from azure.identity.aio import DefaultAzureCredential\n",
    "from azure.identity import InteractiveBrowserCredential\n",
    "from azure.identity import ClientSecretCredential\n",
    "from azure.ai.projects import AIProjectClient\n",
    "from semantic_kernel.agents import AzureAIAgent, AzureAIAgentThread\n",
    "from azure.ai.agents.models import FileSearchTool, VectorStore, FilePurpose "
   ]
  },
  {
   "cell_type": "markdown",
   "metadata": {},
   "source": [
    "Document Upload, Vector Store Creation"
   ]
  },
  {
   "cell_type": "code",
   "execution_count": 2,
   "metadata": {},
   "outputs": [],
   "source": [
    "async def upload_file_create_vector_store(client) -> tuple[str, VectorStore]:\n",
    "    file = await client.agents.files.upload_and_poll(\n",
    "        file=\"ContosoTravel.md\",\n",
    "        purpose=FilePurpose.AGENTS\n",
    "    )\n",
    "    vector_store = await client.agents.create_vector_store_and_poll(\n",
    "        file_ids=[file.id], name=\"my_vectorstore\"\n",
    "    )\n",
    "    return file, vector_store"
   ]
  },
  {
   "cell_type": "markdown",
   "metadata": {},
   "source": [
    "Agent"
   ]
  },
  {
   "cell_type": "code",
   "execution_count": 3,
   "metadata": {},
   "outputs": [],
   "source": [
    "\n",
    "AGENT_NAME = \"RAGAgent\",\n",
    "AGENT_INSTRUCTIONS = \"\"\"\n",
    "You are an AI assistant designed to answer user questions using only the informations retrieved from the provided documents\n",
    "- If a user's question can not be answered using the retrieved context, you must clearly respond:\n",
    "\"I am sorry, but the uploaded document does not contain the necessary information to answer that question\"\n",
    "- Do not answer from general knowledge or reasoning. Do not make assumptions or generate hypothetical explanations.\n",
    "- Do not provide definitions, tutorials, or commentary that is not explicitly grounded in the content of the uploaded file(s).\n",
    "- If a user asks a question like \"What is a Neural Network?\", and this is not discussed in the uploaded document, respond as instructed above.\n",
    "- For questions that do have relevant content in the document (e.g., Contoso's travel insurance coverage), respond accurately, and cite the document explicitly.\n",
    "You must behave as if you have no external knowledge beyond what is retrieved from the uploaded document.\n",
    "\"\"\"\n",
    "async def create_agent(client, vector_store_id):\n",
    "    file_search = FileSearchTool(vector_store_ids=vector_store_id)\n",
    "    agent_definition = await client.agents.create_agent(\n",
    "        model=\"gpt-4o-mini\",\n",
    "        name=AGENT_NAME,\n",
    "        instructions=AGENT_INSTRUCTIONS,\n",
    "        tools=file_search.definitions,\n",
    "        tool_resources=file_search.resources,\n",
    "    )\n",
    "    return AzureAIAgent(client=client, definition=agent_definition)"
   ]
  },
  {
   "cell_type": "markdown",
   "metadata": {},
   "source": [
    "Main"
   ]
  },
  {
   "cell_type": "code",
   "execution_count": 4,
   "metadata": {},
   "outputs": [],
   "source": [
    "load_dotenv()\n",
    "project_endpoint = os.environ[\"AZURE_AI_PROJECT_ENDPOINT\"]\n",
    "tenant_id = os.getenv(\"AZURE_TENANT_ID\")\n",
    "client_id = os.getenv(\"AZURE_CLIENT_ID\")\n",
    "client_secret = os.getenv(\"AZURE_CLIENT_SECRET\")\n",
    "\n",
    "cred = ClientSecretCredential(\n",
    "    tenant_id=tenant_id,\n",
    "    client_id=client_id,\n",
    "    client_secret=client_secret,\n",
    ")\n",
    "# cred = InteractiveBrowserCredential(tenant_id=os.getenv(\"AZURE_TENANT_ID\"))\n",
    "# client = AIProjectClient(endpoint=project_endpoint, credential=cred)"
   ]
  },
  {
   "cell_type": "code",
   "execution_count": null,
   "metadata": {},
   "outputs": [],
   "source": [
    "async def main():\n",
    "    async with (\n",
    "        # DefaultAzureCredential() as cred,\n",
    "        AzureAIAgent.create_client(endpoint=project_endpoint, credential=cred) as client,\n",
    "    ):\n",
    "        file, vector_store = await upload_file_create_vector_store(client)\n",
    "        agent = await create_agent(client, vector_store.id)\n",
    "\n",
    "        user_inputs = [\n",
    "            \"Can you explain Contoso's travel insurance coverage?\",\n",
    "            \"What is a Neural Network?\"\n",
    "        ]\n",
    "\n",
    "        thread = None\n",
    "        try:\n",
    "            for user_input in user_inputs:\n",
    "                print(f\"# User: '{user_input}'\")\n",
    "                async for response in agent.invoke(messages=user_input, thread=thread):\n",
    "                    print(f\"# {response.name}: {response}\")\n",
    "                    thread = response.thread\n",
    "        finally:\n",
    "            await thread.delete() if thread else None\n",
    "            await client.agents.delete_vector_store(vector_store.id)\n",
    "            await client.agents.delete_file(file.id)\n",
    "            await client.agents.delete_agent(agent.id)\n",
    "            print(\"\\nCleaned up agent, thread, file, and vector store.\")\n",
    "\n",
    "await main()"
   ]
  }
 ],
 "metadata": {
  "kernelspec": {
   "display_name": "base",
   "language": "python",
   "name": "python3"
  },
  "language_info": {
   "codemirror_mode": {
    "name": "ipython",
    "version": 3
   },
   "file_extension": ".py",
   "mimetype": "text/x-python",
   "name": "python",
   "nbconvert_exporter": "python",
   "pygments_lexer": "ipython3",
   "version": "3.12.2"
  }
 },
 "nbformat": 4,
 "nbformat_minor": 2
}
