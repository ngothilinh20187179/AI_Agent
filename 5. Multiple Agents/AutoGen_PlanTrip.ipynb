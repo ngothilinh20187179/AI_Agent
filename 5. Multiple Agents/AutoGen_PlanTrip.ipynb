{
 "cells": [
  {
   "cell_type": "code",
   "execution_count": 7,
   "metadata": {},
   "outputs": [],
   "source": [
    "import os\n",
    "from autogen_agentchat.agents import AssistantAgent\n",
    "from autogen_ext.models.openai import AzureOpenAIChatCompletionClient\n",
    "from autogen_agentchat.base import TaskResult\n",
    "from autogen_agentchat.conditions import TextMentionTermination\n",
    "from autogen_agentchat.teams import RoundRobinGroupChat"
   ]
  },
  {
   "cell_type": "code",
   "execution_count": 8,
   "metadata": {},
   "outputs": [],
   "source": [
    "client = AzureOpenAIChatCompletionClient(\n",
    "    model=os.environ[\"AZURE_OPENAI_MODEL\"],\n",
    "    azure_deployment=os.environ[\"AZURE_OPENAI_DEPLOYMENT_NAME\"],\n",
    "    azure_endpoint=os.environ[\"AZURE_OPENAI_ENDPOINT\"],\n",
    "    api_key=os.environ[\"AZURE_OPENAI_API_KEY\"],\n",
    "    api_version=os.environ[\"AZURE_OPENAI_API_VERSION\"]\n",
    ")"
   ]
  },
  {
   "cell_type": "code",
   "execution_count": 9,
   "metadata": {},
   "outputs": [],
   "source": [
    "planner_agent = AssistantAgent(\n",
    "    name=\"planner_agent\",\n",
    "    model_client=client,\n",
    "    description=\"A helpful assistant that can plan trips\",\n",
    "    system_message=\"\"\"\n",
    "    You are a Front Desk Travel Agent with experiences to deal with many customers.\n",
    "    Your goal is to provide the best activities and locations for a traveler to visit.\n",
    "    You provide a single recommendation per person.\n",
    "    Don't waste time with chit chat.\n",
    "    \"\"\"\n",
    ")\n",
    "concierge_agent = AssistantAgent(\n",
    "    name=\"concierge_agent\",\n",
    "    model_client=client,\n",
    "    description=\"A local assistant that can suggest local activities or places to visit\",\n",
    "    system_message=\"\"\" \n",
    "    You are a hotel concierge. You provide the most local and authentic experiences for travelers.\n",
    "    The goal is to determine if the front desk travel agent has recommended the best non-touristy experience for a traveler.\n",
    "    If so, respond with 'APPROVE'\n",
    "    If not, provide insight on how to refine the recommendation without using a specific example. \n",
    "    \"\"\"\n",
    ")"
   ]
  },
  {
   "cell_type": "code",
   "execution_count": 12,
   "metadata": {},
   "outputs": [
    {
     "name": "stdout",
     "output_type": "stream",
     "text": [
      "user: I would like to plan a trip to Paris.\n",
      "planner_agent: I recommend visiting the Palais-Royal and its beautiful gardens. It's a peaceful spot filled with history, art, and unique shops. Enjoy a leisurely stroll through the gardens and appreciate the lovely architecture surrounding the courtyard.\n",
      "concierge_agent: APPROVE\n",
      "Stop Reason: Text 'APPROVE' mentioned\n"
     ]
    }
   ],
   "source": [
    "termination = TextMentionTermination(\"APPROVE\") # conditions for the termination of the conversation.\n",
    "team = RoundRobinGroupChat( # create a discussion 'team' consisting of 2 agents\n",
    "    [planner_agent, concierge_agent], termination_condition=termination\n",
    ")\n",
    "\n",
    "async for message in team.run_stream(task=\"I would like to plan a trip to Paris.\"):\n",
    "    if isinstance(message, TaskResult):\n",
    "        print(\"Stop Reason:\", message.stop_reason)\n",
    "    else:\n",
    "        print(f\"{message.source}: {message.content}\")"
   ]
  },
  {
   "cell_type": "code",
   "execution_count": null,
   "metadata": {},
   "outputs": [],
   "source": []
  }
 ],
 "metadata": {
  "kernelspec": {
   "display_name": "base",
   "language": "python",
   "name": "python3"
  },
  "language_info": {
   "codemirror_mode": {
    "name": "ipython",
    "version": 3
   },
   "file_extension": ".py",
   "mimetype": "text/x-python",
   "name": "python",
   "nbconvert_exporter": "python",
   "pygments_lexer": "ipython3",
   "version": "3.12.2"
  }
 },
 "nbformat": 4,
 "nbformat_minor": 2
}
