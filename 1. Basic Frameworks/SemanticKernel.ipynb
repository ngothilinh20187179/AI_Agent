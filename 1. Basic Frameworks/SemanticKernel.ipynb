{
 "cells": [
  {
   "cell_type": "code",
   "execution_count": 13,
   "metadata": {},
   "outputs": [],
   "source": [
    "import os \n",
    "import json\n",
    "import random   \n",
    "from typing import Annotated\n",
    "from openai import AsyncOpenAI\n",
    "from dotenv import load_dotenv\n",
    "from IPython.display import display, HTML\n",
    "from semantic_kernel.agents import ChatCompletionAgent, ChatHistoryAgentThread\n",
    "from semantic_kernel.contents import FunctionCallContent, FunctionResultContent, StreamingTextContent\n",
    "from semantic_kernel.functions import kernel_function\n",
    "from semantic_kernel.connectors.ai.open_ai import OpenAIChatCompletion, AzureChatCompletion"
   ]
  },
  {
   "cell_type": "code",
   "execution_count": 3,
   "metadata": {},
   "outputs": [],
   "source": [
    "# Define a Plugin (Native Functions)\n",
    "class DestinationsPlugin:\n",
    "    def __init__(self):\n",
    "        self.destinations = [\n",
    "            \"Barcelona, Spain\", \"Paris, France\", \"Berlin, Germany\", \"Tokyo, Japan\", \"Sydney, Australia\",\n",
    "            \"New York, USA\", \"Cairo, Egypt\", \"Cape Town, South Africa\", \"Rio de Janeiro, Brazil\", \"Bali, Indonesia\"\n",
    "        ]\n",
    "        self.last_destination = None\n",
    "\n",
    "    @kernel_function(description=\"Provides a random vacation destination.\")\n",
    "    def get_random_destination(self) -> Annotated[str, \"Returns a random vacation destination.\"]:\n",
    "        available_destinations = self.destinations.copy()\n",
    "        if self.last_destination and len(available_destinations) > 1:\n",
    "            available_destinations.remove(self.last_destination)\n",
    "        destination = random.choice(available_destinations)\n",
    "        self.last_destination = destination\n",
    "        return destination"
   ]
  },
  {
   "cell_type": "markdown",
   "metadata": {},
   "source": [
    "Load Environment and Create OpenAI Client"
   ]
  },
  {
   "cell_type": "code",
   "execution_count": 4,
   "metadata": {},
   "outputs": [],
   "source": [
    "load_dotenv(dotenv_path=\".env\", override=True)\n",
    "\n",
    "endpoint = os.environ[\"AZURE_OPENAI_ENDPOINT\"]\n",
    "api_key  = os.environ[\"AZURE_OPENAI_API_KEY\"]\n",
    "deploy   = os.environ[\"AZURE_OPENAI_DEPLOYMENT_NAME\"]\n",
    "api_ver  = os.environ.get(\"AZURE_OPENAI_API_VERSION\", \"2025-01-01-preview\")\n",
    "\n",
    "# Giao tiếp trực tiếp với API GPT (qua OpenAI hoặc Azure).\n",
    "client = AsyncOpenAI(\n",
    "    api_key=api_key,\n",
    "    base_url=f\"{endpoint}/openai/deployments/{deploy}\",\n",
    "    default_headers={\"api-key\": api_key},\n",
    "    default_query={\"api-version\": api_ver},\n",
    ")\n",
    "\n",
    "# Trung gian giữa Agent và client; wrap logic gửi prompt/nhận completion.\n",
    "chat_completion_service = OpenAIChatCompletion(\n",
    "    ai_model_id=deploy,         \n",
    "    async_client=client,\n",
    ")\n",
    "\n",
    "# chat_completion_service = AzureChatCompletion(\n",
    "#     deployment_name=deploy,\n",
    "#     endpoint=endpoint,\n",
    "#     api_key=api_key,\n",
    "#     api_version=api_ver,\n",
    "# )"
   ]
  },
  {
   "cell_type": "code",
   "execution_count": 5,
   "metadata": {},
   "outputs": [
    {
     "name": "stdout",
     "output_type": "stream",
     "text": [
      "https://ngothilinhau12915-ai-fo-resource.openai.azure.com\n"
     ]
    }
   ],
   "source": [
    "print(endpoint)"
   ]
  },
  {
   "cell_type": "markdown",
   "metadata": {},
   "source": [
    "Creating the Agent"
   ]
  },
  {
   "cell_type": "code",
   "execution_count": 6,
   "metadata": {},
   "outputs": [],
   "source": [
    "# Bộ não trung tâm: phân tích, đưa ra hành động, sử dụng plugin nếu cần.\n",
    "agent = ChatCompletionAgent(\n",
    "    service=chat_completion_service, \n",
    "    plugins=[DestinationsPlugin()],\n",
    "    name=\"TravelAgent\",\n",
    "    instructions=\"You are a helpful AI Agent that can help plan vacations for customers at random destinations\",\n",
    ")"
   ]
  },
  {
   "cell_type": "markdown",
   "metadata": {},
   "source": [
    "Running the Agent"
   ]
  },
  {
   "cell_type": "code",
   "execution_count": 5,
   "metadata": {},
   "outputs": [
    {
     "name": "stdout",
     "output_type": "stream",
     "text": [
      "# User: Plan me a day trip.\n",
      "\n",
      "# TravelAgent: How about a day trip to Berlin, Germany? Here’s a suggested itinerary:\n",
      "\n",
      "### Morning\n",
      "1. **Breakfast at a Local Café**: Start your day with a traditional German breakfast at a local café. Try some fresh bread rolls (Brötchen), cold cuts, and cheese.\n",
      "2. **Brandenburg Gate**: Visit this iconic landmark and take some photos. It’s a symbol of Berlin’s history and unity.\n",
      "\n",
      "### Late Morning\n",
      "3. **Reichstag Building**: Head to the Reichstag, where you can take a tour of the building and enjoy the panoramic views from its glass dome. Be sure to register online in advance.\n",
      "\n",
      "### Afternoon\n",
      "4. **Lunch at a Street Food Market**: Enjoy lunch at one of Berlin’s famous street food markets, like Markthalle Neun, where you can find a variety of delicious options.\n",
      "5. **Berlin Wall Memorial**: Visit the memorial to learn about the history of the Berlin Wall and see the preserved sections.\n",
      "\n",
      "### Evening\n",
      "6. **Explore the East Side Gallery**: Walk along the longest remaining section of the Berlin Wall, which has been turned into an open-air gallery featuring stunning murals.\n",
      "7. **Dinner in Kreuzberg**: End your day with dinner in the hip neighborhood of Kreuzberg, known for its diverse culinary scene, including Turkish, Italian, and traditional German food.\n",
      "\n",
      "### Optional Night Activity\n",
      "8. **Nightlife**: If you're up for it, experience Berlin’s vibrant nightlife. Consider visiting a bar or club to enjoy some local music and drinks.\n",
      "\n",
      "This itinerary offers a blend of history, culture, and food, making for a memorable day in Berlin! Would you like more details on any part of the trip?\n"
     ]
    }
   ],
   "source": [
    "async def main():\n",
    "    thread: ChatHistoryAgentThread | None = None\n",
    "    try:\n",
    "        user_inputs = [\"Plan me a day trip.\"]\n",
    "        for user_input in user_inputs:\n",
    "            print(f\"# User: {user_input}\\n\")\n",
    "            first_chunk = True\n",
    "            async for response in agent.invoke_stream(messages=user_input, thread=thread):\n",
    "                if first_chunk:\n",
    "                    who = response.name or \"Agent\"\n",
    "                    print(f\"# {who}: \", end=\"\", flush=True)\n",
    "                    first_chunk = False\n",
    "                print(f\"{response}\", end=\"\", flush=True)\n",
    "                thread = response.thread\n",
    "            print()\n",
    "    finally:\n",
    "        if thread:\n",
    "            await thread.delete()\n",
    "\n",
    "await main()"
   ]
  },
  {
   "cell_type": "code",
   "execution_count": 7,
   "metadata": {},
   "outputs": [],
   "source": [
    "AGENT_INSTRUCTIONS = \"\"\"You are a helpful AI Agent that can help plan vacations for customers.\n",
    "\n",
    "Important: When users specify a destination, always plan for that location. Only suggest random destinations when the user hasn't specified a preference.\n",
    "\n",
    "When the conversation begins, introduce yourself with this message:\n",
    "\"Hello! I'm your TravelAgent assistant. I can help plan vacations and suggest interesting destinations for you. Here are some things you can ask me:\n",
    "1. Plan a day trip to a specific location\n",
    "2. Suggest a random vacation destination\n",
    "3. Find destinations with specific features (beaches, mountains, historical sites, etc.)\n",
    "4. Plan an alternative trip if you don't like my first suggestion\n",
    "\n",
    "What kind of trip would you like me to help you plan today?\"\n",
    "\n",
    "Always prioritize user preferences. If they mention a specific destination like \"Bali\" or \"Paris,\" focus your planning on that location rather than suggesting alternatives.\n",
    "\"\"\"\n",
    "\n",
    "agent = ChatCompletionAgent(\n",
    "    service=chat_completion_service, \n",
    "    plugins=[DestinationsPlugin()],\n",
    "    name=\"TravelAgent\",\n",
    "    instructions=AGENT_INSTRUCTIONS,\n",
    ")"
   ]
  },
  {
   "cell_type": "code",
   "execution_count": 14,
   "metadata": {},
   "outputs": [
    {
     "data": {
      "text/html": [
       "<div style='margin-bottom:10px'><div style='font-weight:bold'>User:</div><div style='margin-left:20px'>Plan me a day trip.</div></div><div style='margin-bottom:20px'><div style='font-weight:bold'>TravelAgent:</div><div style='margin-left:20px; white-space:pre-wrap'>Could you please specify a location for the day trip? This will help me tailor the itinerary to your preferences!</div></div><hr>"
      ],
      "text/plain": [
       "<IPython.core.display.HTML object>"
      ]
     },
     "metadata": {},
     "output_type": "display_data"
    },
    {
     "data": {
      "text/html": [
       "<div style='margin-bottom:10px'><div style='font-weight:bold'>User:</div><div style='margin-left:20px'>I don't like that destination. Plan me another vacation.</div></div><div style='margin-bottom:20px'><div style='font-weight:bold'>TravelAgent:</div><div style='margin-left:20px; white-space:pre-wrap'>How about planning a vacation to Sydney, Australia? It's a vibrant city known for its stunning harbor, iconic landmarks, and beautiful beaches. Here are some key highlights and activities you can enjoy during your trip:\n",
       "\n",
       "### Itinerary Suggestions for Sydney:\n",
       "\n",
       "#### Day 1: Iconic Landmarks\n",
       "- **Morning:** Visit the Sydney Opera House. Take a guided tour to learn about its unique architecture.\n",
       "- **Afternoon:** Stroll through the Royal Botanic Garden, which offers beautiful views of the Sydney Harbour.\n",
       "- **Evening:** Head to Sydney Harbour Bridge for a bridge climb or a scenic walk during sunset.\n",
       "\n",
       "#### Day 2: Beach Day\n",
       "- **Morning:** Spend some time at Bondi Beach. Enjoy sunbathing or take a surf lesson.\n",
       "- **Afternoon:** Walk the Bondi to Coogee coastal trail, taking in the stunning views along the way.\n",
       "- **Evening:** Dine at one of the beachfront restaurants.\n",
       "\n",
       "#### Day 3: Culture and Exploration\n",
       "- **Morning:** Explore the Art Gallery of New South Wales, showcasing Australian and European art.\n",
       "- **Afternoon:** Visit The Rocks, a historic area with cobblestone streets, markets, and pubs.\n",
       "- **Evening:** Enjoy a dinner cruise around the harbor, taking in the sights from the water.\n",
       "\n",
       "### Tips:\n",
       "- Consider purchasing an Opal card for convenient public transport.\n",
       "- Check if any local events or festivals are happening during your visit.\n",
       "\n",
       "Would you like more details on any specific activities, or do you want help with accommodation and travel arrangements?</div></div><hr>"
      ],
      "text/plain": [
       "<IPython.core.display.HTML object>"
      ]
     },
     "metadata": {},
     "output_type": "display_data"
    }
   ],
   "source": [
    "# Danh sách các prompt đầu vào mô phỏng cuộc trò chuyện qua nhiều lượt với agent.\n",
    "user_inputs = [\n",
    "    \"Plan me a day trip.\",\n",
    "    \"I don't like that destination. Plan me another vacation.\",\n",
    "]\n",
    "\n",
    "async def main():\n",
    "    thread: ChatHistoryAgentThread | None = None\n",
    "\n",
    "    for user_input in user_inputs:\n",
    "        html_output = (\n",
    "            f\"<div style='margin-bottom:10px'>\"\n",
    "            f\"<div style='font-weight:bold'>User:</div>\"\n",
    "            f\"<div style='margin-left:20px'>{user_input}</div></div>\"\n",
    "        )\n",
    "        agent_name = None\n",
    "        full_response: list[str] = []\n",
    "        function_calls: list[str] = []\n",
    "        current_function_name = None\n",
    "        argument_buffer = \"\"\n",
    "\n",
    "        # Gửi prompt vào agent qua invoke_stream()\n",
    "        async for response in agent.invoke_stream(\n",
    "            messages=user_input,\n",
    "            thread=thread,\n",
    "        ):\n",
    "            thread = response.thread\n",
    "            agent_name = response.name\n",
    "            content_items = list(response.items)\n",
    "\n",
    "            for item in content_items:\n",
    "                if isinstance(item, FunctionCallContent):\n",
    "                    if item.function_name:\n",
    "                        current_function_name = item.function_name\n",
    "\n",
    "                    # Accumulate arguments (streamed in chunks)\n",
    "                    if isinstance(item.arguments, str):\n",
    "                        argument_buffer += item.arguments\n",
    "                elif isinstance(item, FunctionResultContent):\n",
    "                    # Finalize any pending function call before showing result\n",
    "                    if current_function_name:\n",
    "                        formatted_args = argument_buffer.strip()\n",
    "                        try:\n",
    "                            parsed_args = json.loads(formatted_args)\n",
    "                            formatted_args = json.dumps(parsed_args)\n",
    "                        except Exception:\n",
    "                            pass  # leave as raw string\n",
    "\n",
    "                        function_calls.append(f\"Calling function: {current_function_name}({formatted_args})\")\n",
    "                        current_function_name = None\n",
    "                        argument_buffer = \"\"\n",
    "\n",
    "                    function_calls.append(f\"\\nFunction Result:\\n\\n{item.result}\")\n",
    "                elif isinstance(item, StreamingTextContent) and item.text:\n",
    "                    full_response.append(item.text)\n",
    "\n",
    "        if function_calls:\n",
    "            html_output += (\n",
    "                \"<div style='margin-bottom:10px'>\"\n",
    "                \"<details>\"\n",
    "                \"<summary style='cursor:pointer; font-weight:bold; color:#0066cc;'>Function Calls (click to expand)</summary>\"\n",
    "                \"<div style='margin:10px; padding:10px; background-color:#f8f8f8; \"\n",
    "                \"border:1px solid #ddd; border-radius:4px; white-space:pre-wrap; font-size:14px; color:#333;'>\"\n",
    "                f\"{chr(10).join(function_calls)}\"\n",
    "                \"</div></details></div>\"\n",
    "            )\n",
    "\n",
    "        html_output += (\n",
    "            \"<div style='margin-bottom:20px'>\"\n",
    "            f\"<div style='font-weight:bold'>{agent_name or 'Assistant'}:</div>\"\n",
    "            f\"<div style='margin-left:20px; white-space:pre-wrap'>{''.join(full_response)}</div></div><hr>\"\n",
    "        )\n",
    "\n",
    "        display(HTML(html_output))\n",
    "\n",
    "await main()"
   ]
  },
  {
   "cell_type": "code",
   "execution_count": null,
   "metadata": {},
   "outputs": [],
   "source": []
  }
 ],
 "metadata": {
  "kernelspec": {
   "display_name": "base",
   "language": "python",
   "name": "python3"
  },
  "language_info": {
   "codemirror_mode": {
    "name": "ipython",
    "version": 3
   },
   "file_extension": ".py",
   "mimetype": "text/x-python",
   "name": "python",
   "nbconvert_exporter": "python",
   "pygments_lexer": "ipython3",
   "version": "3.12.2"
  }
 },
 "nbformat": 4,
 "nbformat_minor": 2
}
