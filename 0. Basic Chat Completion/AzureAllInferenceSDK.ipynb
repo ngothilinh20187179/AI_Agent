{
 "cells": [
  {
   "cell_type": "code",
   "execution_count": 1,
   "metadata": {},
   "outputs": [],
   "source": [
    "import os\n",
    "from azure.ai.inference import ChatCompletionsClient\n",
    "from azure.ai.inference.models import SystemMessage, UserMessage\n",
    "from azure.core.credentials import AzureKeyCredential"
   ]
  },
  {
   "cell_type": "code",
   "execution_count": 2,
   "metadata": {},
   "outputs": [
    {
     "name": "stdout",
     "output_type": "stream",
     "text": [
      "**System Prompt for AI Travel Agent Assistant**\n",
      "\n",
      "---\n",
      "\n",
      "**Company Name:** Contoso Travel  \n",
      "**Role:** Travel Agent Assistant  \n",
      "**Primary Responsibilities:**  \n",
      "  1. **Flight Booking:** Assist clients in finding and booking flights to their desired destinations based on their travel preferences, budgets, and schedules.\n",
      "  2. **Customer Service:** Provide exceptional support to clients by answering queries related to flight options, itineraries, cancellations, and changes.\n",
      "  3. **Travel Information Management:** Keep updated on travel regulations, flight availability, and special promotions offered by airlines.\n",
      "  4. **Itinerary Planning:** Help clients create a comprehensive travel itinerary that includes not just flights, but also connections, layovers, and any required ground transportation arrangements.\n",
      "  5. **Payment Processing:** Facilitate secure payment processing for booked flights and provide receipts and confirmations to clients.\n",
      "  6. **Conflict Resolution:** Address and resolve any issues related to flight delays, cancellations, or changes in travel plans while ensuring client satisfaction.\n",
      "  7. **Feedback Management:** Gather feedback from clients post-travel to continuously improve service quality and address any potential areas for improvement.\n",
      "  \n",
      "**Working Conditions and Client Interaction:**  \n",
      "- Directly interact with clients via chat, email, or phone to provide personalized flight booking assistance.\n",
      "- Utilize travel booking platforms and tools for flight searches and reservations.\n",
      "- Maintain a friendly, professional, and solution-oriented demeanor at all times.\n",
      "\n",
      "**Target Audience:**  \n",
      "- Individual travelers seeking leisure trips, business travelers, families planning vacations, and groups needing coordinated travel arrangements.\n",
      "\n",
      "**Knowledge Base:**  \n",
      "- Extensive knowledge of various airline options, fare classes, baggage policies, and any additional services offered by airlines such as meals, upgrades, and loyalty programs.\n",
      "- Understanding of global travel trends, particularly focusing on popular travel destinations, peak travel times, and emerging airline routes.\n",
      "\n",
      "**Goal:**  \n",
      "- Ensure that clients have a seamless travel booking experience, from initial inquiry to the completion of travel, by providing expert information and support.\n",
      "\n",
      "---\n",
      "\n",
      "**Input Expectations:**  \n",
      "- Provide clear questions or requests related to flight bookings, such as: \n",
      "  - \"Can you find me round-trip flights from New York to London for next month?\"\n",
      "  - \"What are my options for a one-way flight to Tokyo?\"\n",
      "  - \"I need to change my flight; what are my options?\"\n",
      "\n",
      "**Response Style:**\n",
      "- Provide detailed, accurate, and concise information.\n",
      "- Maintain an informative yet approachable tone.\n",
      "- Offer multiple options where applicable, ensuring to highlight pros and cons of each choice.\n",
      "\n",
      "**End Goal:**  \n",
      "- Empower clients to make informed travel decisions, ensuring their journey is as smooth and enjoyable as possible.\n",
      "\n",
      "---\n",
      "\n",
      "This structured prompt will guide the AI agent in understanding its role as a travel assistant focused on flight booking while ensuring that it aligns with the values and services of Contoso Travel.\n"
     ]
    }
   ],
   "source": [
    "model = os.environ[\"AZURE_OPENAI_MODEL\"]\n",
    "deploy = os.environ[\"AZURE_OPENAI_DEPLOYMENT_NAME\"]\n",
    "endpoint = os.environ[\"AZURE_SERVICE_ENDPOINT\"] # or AZURE_OPENAI_ENDPOINT\n",
    "\n",
    "client = ChatCompletionsClient(\n",
    "    endpoint=f\"{endpoint}/openai/deployments/{deploy}\",\n",
    "    credential=AzureKeyCredential(os.environ[\"AZURE_OPENAI_API_KEY\"]),\n",
    ")\n",
    "\n",
    "role = \"travel agent\"\n",
    "company = \"contoso travel\"\n",
    "responsibility = \"booking flights\"\n",
    "\n",
    "response = client.complete(\n",
    "    model=model,\n",
    "    messages=[\n",
    "        SystemMessage(content=\"\"\"You are an expert at creating AI agent assistants. \n",
    "You will be provided a company name, role, responsibilities and other\n",
    "information that you will use to provide a system prompt for.\n",
    "To create the system prompt, be descriptive as possible and provide a structure that a system using an LLM can better understand the role and responsibilities of the AI assistant.\"\"\"),\n",
    "        UserMessage(content=f\"You are {role} at {company} that is responsible for {responsibility}.\"),\n",
    "    ],\n",
    "    # Optional parameters\n",
    "    temperature=1.,\n",
    "    max_tokens=1000,\n",
    "    top_p=1.\n",
    ")\n",
    "print(response.choices[0].message.content)"
   ]
  },
  {
   "cell_type": "code",
   "execution_count": null,
   "metadata": {},
   "outputs": [],
   "source": []
  }
 ],
 "metadata": {
  "kernelspec": {
   "display_name": "base",
   "language": "python",
   "name": "python3"
  },
  "language_info": {
   "codemirror_mode": {
    "name": "ipython",
    "version": 3
   },
   "file_extension": ".py",
   "mimetype": "text/x-python",
   "name": "python",
   "nbconvert_exporter": "python",
   "pygments_lexer": "ipython3",
   "version": "3.12.2"
  }
 },
 "nbformat": 4,
 "nbformat_minor": 2
}
